{
  "nbformat": 4,
  "nbformat_minor": 0,
  "metadata": {
    "colab": {
      "name": "pytorch_training_sample.ipynb",
      "provenance": [],
      "collapsed_sections": []
    },
    "kernelspec": {
      "name": "python3",
      "display_name": "Python 3"
    },
    "language_info": {
      "name": "python"
    }
  },
  "cells": [
    {
      "cell_type": "code",
      "metadata": {
        "id": "Wc3voeh1_Dud"
      },
      "source": [
        "import torch"
      ],
      "execution_count": null,
      "outputs": []
    },
    {
      "cell_type": "code",
      "metadata": {
        "colab": {
          "base_uri": "https://localhost:8080/"
        },
        "id": "NmCL2bUy_hyI",
        "outputId": "070d1d74-4988-45bd-8050-dde974d4700f"
      },
      "source": [
        "#f = w*x\n",
        "#f = 2*x\n",
        "X = torch.tensor([1, 2, 3, 4], dtype=torch.float32)\n",
        "Y = torch.tensor([2, 4, 6, 8], dtype=torch.float32)\n",
        "\n",
        "w = torch.tensor(0.0, dtype=torch.float32, requires_grad=True)\n",
        "\n",
        "#model prediction\n",
        "def forward(x):\n",
        "    return w * x\n",
        "\n",
        "#loss = Mean square error\n",
        "def loss(y, y_predicted):\n",
        "  return ((y_predicted-y)**2).mean()\n",
        "\n",
        "print(f\"Prediction before training: f(5) = {forward(5):.3f}\")\n",
        "\n",
        "#training\n",
        "learning_rate = 0.01\n",
        "n_iters = 100\n",
        "\n",
        "for epoch in range(n_iters):\n",
        "  #prediction\n",
        "  y_pred = forward(X)\n",
        "  #loss\n",
        "  l = loss(Y, y_pred)\n",
        "  #gradient = backpass\n",
        "  l.backward()\n",
        "  #update weights\n",
        "  with torch.no_grad():\n",
        "    w -= learning_rate*w.grad\n",
        "\n",
        "  #zero the gradients\n",
        "  w.grad.zero_()\n",
        "\n",
        "  if epoch % 10 == 0:\n",
        "    print(f\"epoch{epoch + 1}:w = {w:.3f}, loss = {l:.8f}\")\n",
        "\n",
        "print(f\"Prediction after training: f(5) = {forward(5):.3f}\")"
      ],
      "execution_count": null,
      "outputs": [
        {
          "output_type": "stream",
          "text": [
            "Prediction before training: f(5) = 0.000\n",
            "epoch1:w = 0.300, loss = 30.00000000\n",
            "epoch11:w = 1.665, loss = 1.16278565\n",
            "epoch21:w = 1.934, loss = 0.04506890\n",
            "epoch31:w = 1.987, loss = 0.00174685\n",
            "epoch41:w = 1.997, loss = 0.00006770\n",
            "epoch51:w = 1.999, loss = 0.00000262\n",
            "epoch61:w = 2.000, loss = 0.00000010\n",
            "epoch71:w = 2.000, loss = 0.00000000\n",
            "epoch81:w = 2.000, loss = 0.00000000\n",
            "epoch91:w = 2.000, loss = 0.00000000\n",
            "Prediction after training: f(5) = 10.000\n"
          ],
          "name": "stdout"
        }
      ]
    }
  ]
}