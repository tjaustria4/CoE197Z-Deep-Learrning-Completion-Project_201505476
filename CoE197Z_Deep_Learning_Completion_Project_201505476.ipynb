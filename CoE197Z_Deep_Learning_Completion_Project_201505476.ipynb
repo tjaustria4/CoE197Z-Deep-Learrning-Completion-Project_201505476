{
  "nbformat": 4,
  "nbformat_minor": 0,
  "metadata": {
    "colab": {
      "name": "CoE197Z - Deep Learning Completion Project.ipynb",
      "provenance": [],
      "collapsed_sections": [
        "VkX4lnOfRgp4",
        "ECweeoqlR4qn",
        "OwUCnwNVSJ1V"
      ],
      "authorship_tag": "ABX9TyNFQkc07pOkFUcz9J8dXPSU",
      "include_colab_link": true
    },
    "kernelspec": {
      "name": "python3",
      "display_name": "Python 3"
    },
    "language_info": {
      "name": "python"
    },
    "accelerator": "GPU"
  },
  "cells": [
    {
      "cell_type": "markdown",
      "metadata": {
        "id": "view-in-github",
        "colab_type": "text"
      },
      "source": [
        "<a href=\"https://colab.research.google.com/github/tjaustria4/CoE197Z-Deep-Learrning-Completion-Project_201505476/blob/main/CoE197Z_Deep_Learning_Completion_Project_201505476.ipynb\" target=\"_parent\"><img src=\"https://colab.research.google.com/assets/colab-badge.svg\" alt=\"Open In Colab\"/></a>"
      ]
    },
    {
      "cell_type": "markdown",
      "metadata": {
        "id": "Yu_eyk7t-DVJ"
      },
      "source": [
        "# **CoE 197Z - Deep Learning Completion Project**\n",
        "\n",
        "---\n",
        "\n",
        "\n",
        "Theodore J. Austria\n",
        "\n",
        "2015-05476\n",
        "\n",
        "---\n",
        "\n",
        "\n",
        "\n",
        "The main code that was used here was from the site: *https://pytorch.org/tutorials/beginner/transfer_learning_tutorial.html* by the author **Sasank Chilamkurthy**.\n",
        "\n",
        "I added my code for preparing the data to be fed into the model. I modified some of the code to fit for the required task. The format 2 of the SVHN core was used in this code.\n",
        "\n",
        "\n",
        "\n",
        "\n"
      ]
    },
    {
      "cell_type": "code",
      "metadata": {
        "id": "qKxz60S3O1Ud"
      },
      "source": [
        "# License: BSD\n",
        "# Author: Sasank Chilamkurthy\n",
        "\n",
        "from __future__ import print_function, division\n",
        "\n",
        "import torch\n",
        "import torch.nn as nn\n",
        "import torch.optim as optim\n",
        "from torch.optim import lr_scheduler\n",
        "import numpy as np\n",
        "import torchvision\n",
        "from torchvision import datasets, models, transforms\n",
        "import matplotlib.pyplot as plt\n",
        "import time\n",
        "import os\n",
        "import copy\n",
        "from PIL import Image\n",
        "import scipy.io as sio"
      ],
      "execution_count": 1,
      "outputs": []
    },
    {
      "cell_type": "markdown",
      "metadata": {
        "id": "vBF6wKGX_fsr"
      },
      "source": [
        "I uploaded the format 2 data set which is the .mat files into my google drive."
      ]
    },
    {
      "cell_type": "code",
      "metadata": {
        "id": "P5H__Q77PXtT"
      },
      "source": [
        "from google.colab import drive\n",
        "drive.mount('/content/drive')"
      ],
      "execution_count": null,
      "outputs": []
    },
    {
      "cell_type": "markdown",
      "metadata": {
        "id": "cEGP17Qu_3BN"
      },
      "source": [
        "Checked for the list of models."
      ]
    },
    {
      "cell_type": "code",
      "metadata": {
        "id": "cjQJzv-uAMZ6"
      },
      "source": [
        "[model for model in dir(models)]"
      ],
      "execution_count": null,
      "outputs": []
    },
    {
      "cell_type": "markdown",
      "metadata": {
        "id": "h-6e03QBADd0"
      },
      "source": [
        "I loaded the two .mat files(format 2 of the SVHN core) using the scipy.io library.\n",
        "\n",
        "Based from what I have researched and learned from the resources online, the structure of the root folder for the data set must be in the form:\n",
        "\n",
        "    root/\n",
        "      train/\n",
        "        labels/\n",
        "          image1.jpg\n",
        "          ...\n",
        "      val/\n",
        "        labels/\n",
        "          image2.jpg\n",
        "          ...\n",
        "The code below extracts the information from the .mat files which are:\n",
        "\n",
        "\n",
        "*   images with size 32x32\n",
        "*   corresponding label of the image\n",
        "\n",
        "\n",
        "\n",
        "\n",
        "\n",
        "\n",
        "\n",
        "\n",
        "\n",
        "    "
      ]
    },
    {
      "cell_type": "code",
      "metadata": {
        "id": "CdSKCcpRi2St",
        "colab": {
          "base_uri": "https://localhost:8080/"
        },
        "outputId": "1d958b57-00be-4fc0-c775-8d18cce933e7"
      },
      "source": [
        "# load .mat files\n",
        "train = sio.loadmat('/content/drive/MyDrive/train_32x32.mat')\n",
        "val = sio.loadmat('/content/drive/MyDrive/test_32x32.mat')\n",
        "\n",
        "# access to the dict\n",
        "x_train = train['X'] #images\n",
        "y_train = train['y'] #labels of the train images\n",
        "print('train len: '+ str(len(y_train)))\n",
        "x_val = val['X'] #images\n",
        "y_val = val['y'] #labels of the val images\n",
        "print('val len: '+ str(len(y_val)))"
      ],
      "execution_count": 6,
      "outputs": [
        {
          "output_type": "stream",
          "text": [
            "train len: 73257\n",
            "val len: 26032\n"
          ],
          "name": "stdout"
        }
      ]
    },
    {
      "cell_type": "markdown",
      "metadata": {
        "id": "id1SVLOPI4DC"
      },
      "source": [
        "Because of the structure of the root folder and the information of the .mat files, the code below saves the 32x32 pictures to the drive with the following details:\n",
        "\n",
        "*   Root folder = \"SVHN_cropped\"\n",
        "*   Labels/Sub-folders of the train folder = \"1\" ,\"2\",...,\"10\"\n",
        "  *   Contents are the images of the \"train_32x32.mat\" file\n",
        "\n",
        "*   Labels/Sub-folders of the val folder = \"1\" ,\"2\",...,\"10\"\n",
        "  *   Contents are the images of the \"test_32x32.mat\" file"
      ]
    },
    {
      "cell_type": "code",
      "metadata": {
        "id": "SY-HjWwrJz0C"
      },
      "source": [
        "# save the images to the train folder with the labels subfolders\n",
        "number_of_files = 0\n",
        "for number_of_files in range(73256):\n",
        "  im = Image.fromarray(x_train[:,:,:,number_of_files])\n",
        "  im.save('/content/drive/MyDrive/SVHN_cropped/train/'+str(int(y_train[number_of_files])) + '/' +str(number_of_files+1) + '.jpg')\n",
        "\n",
        "number_of_files = 0\n",
        "# save the images to the val folder with the labels subfolders\n",
        "for number_of_files in range(26031):\n",
        "  im = Image.fromarray(x_val[:,:,:,number_of_files])\n",
        "  im.save('/content/drive/MyDrive/SVHN_cropped/val/'+str(int(y_val[number_of_files])) + '/' +str(number_of_files+1) + '.jpg')"
      ],
      "execution_count": 7,
      "outputs": []
    },
    {
      "cell_type": "markdown",
      "metadata": {
        "id": "U6Ydv7z-LbDB"
      },
      "source": [
        "Check if the files are correct by looking at the number of files in the train and val folder if they match with the .mat labels length."
      ]
    },
    {
      "cell_type": "code",
      "metadata": {
        "id": "aNYe4n6eLnrJ"
      },
      "source": [
        "number_files = 0\n",
        "for numlabel in range(10):\n",
        "  list = os.listdir('/content/drive/MyDrive/SVHN_cropped/val/' + str(numlabel + 1))\n",
        "  number_files = number_files + len(list)\n",
        "  print(len(list))\n",
        "print(number_files)\n",
        "number_files = 0"
      ],
      "execution_count": null,
      "outputs": []
    },
    {
      "cell_type": "markdown",
      "metadata": {
        "id": "-w5tm_sGP_Fl"
      },
      "source": [
        "The code below is for the preprocessing of the data. This will create the dataloader to be fed to the model. Data is fetched from the path of the folder \"SVHN_cropped\"."
      ]
    },
    {
      "cell_type": "code",
      "metadata": {
        "id": "7UfihiFsO-r6"
      },
      "source": [
        "# Data augmentation and normalization for training\n",
        "# Just normalization for validation\n",
        "data_transforms = {\n",
        "    'train': transforms.Compose([\n",
        "        transforms.ToTensor(),\n",
        "        transforms.Normalize([0.485, 0.456, 0.406], [0.229, 0.224, 0.225])\n",
        "    ]),\n",
        "    'val': transforms.Compose([\n",
        "        transforms.ToTensor(),\n",
        "        transforms.Normalize([0.485, 0.456, 0.406], [0.229, 0.224, 0.225])\n",
        "    ]),\n",
        "}\n",
        "\n",
        "data_dir = '/content/drive/MyDrive/SVHN_cropped'\n",
        "#data_dir = '/content/drive/MyDrive/SVHN_small'\n",
        "image_datasets = {x: datasets.ImageFolder(os.path.join(data_dir, x), data_transforms[x]) for x in ['train', 'val']}\n",
        "dataloaders = {x: torch.utils.data.DataLoader(image_datasets[x], batch_size=1024, shuffle=True, num_workers=2) for x in ['train', 'val']}\n",
        "dataset_sizes = {x: len(image_datasets[x]) for x in ['train', 'val']}\n",
        "class_names = image_datasets['train'].classes\n",
        "\n",
        "device = torch.device(\"cuda:0\" if torch.cuda.is_available() else \"cpu\")"
      ],
      "execution_count": 11,
      "outputs": []
    },
    {
      "cell_type": "markdown",
      "metadata": {
        "id": "DnjNW_mNT4C2"
      },
      "source": [
        "Check for the device if cuda or cpu."
      ]
    },
    {
      "cell_type": "code",
      "metadata": {
        "id": "5mc3K7tnPkt2"
      },
      "source": [
        "print(device)"
      ],
      "execution_count": null,
      "outputs": []
    },
    {
      "cell_type": "markdown",
      "metadata": {
        "id": "F9-uIYzMT8fE"
      },
      "source": [
        "Check the details of the nvidia cuda."
      ]
    },
    {
      "cell_type": "code",
      "metadata": {
        "id": "I7Wpir-Ej0ql"
      },
      "source": [
        "!nvidia-smi"
      ],
      "execution_count": null,
      "outputs": []
    },
    {
      "cell_type": "markdown",
      "metadata": {
        "id": "coWpWkFfT_cF"
      },
      "source": [
        "Check if cuda is available."
      ]
    },
    {
      "cell_type": "code",
      "metadata": {
        "id": "6pVH99OWj2Kq"
      },
      "source": [
        "torch.cuda.is_available()"
      ],
      "execution_count": null,
      "outputs": []
    },
    {
      "cell_type": "markdown",
      "metadata": {
        "id": "eAKQ1cVTIOgi"
      },
      "source": [
        "Check what GPU is used."
      ]
    },
    {
      "cell_type": "code",
      "metadata": {
        "id": "GIlea3y0j3kh"
      },
      "source": [
        "torch.cuda.get_device_name(0)"
      ],
      "execution_count": null,
      "outputs": []
    },
    {
      "cell_type": "markdown",
      "metadata": {
        "id": "QrgxJk9UQTMZ"
      },
      "source": [
        "The code below shows some of the images and their corresponding labels.\n",
        "\n",
        "The number of images depends on the batch_size."
      ]
    },
    {
      "cell_type": "code",
      "metadata": {
        "id": "MiBb80jzPD3X"
      },
      "source": [
        "def imshow(inp, title=None):\n",
        "    \"\"\"Imshow for Tensor.\"\"\"\n",
        "    inp = inp.numpy().transpose((1, 2, 0))\n",
        "    mean = np.array([0.485, 0.456, 0.406])\n",
        "    std = np.array([0.229, 0.224, 0.225])\n",
        "    inp = std * inp + mean\n",
        "    inp = np.clip(inp, 0, 1)\n",
        "    plt.imshow(inp)\n",
        "    if title is not None:\n",
        "        plt.title(title)\n",
        "    plt.pause(0.001)  # pause a bit so that plots are updated\n",
        "\n",
        "\n",
        "# Get a batch of training data\n",
        "inputs, classes = next(iter(dataloaders['train']))\n",
        "\n",
        "# Make a grid from batch\n",
        "out = torchvision.utils.make_grid(inputs)\n",
        "\n",
        "imshow(out, title=[class_names[x] for x in classes])"
      ],
      "execution_count": null,
      "outputs": []
    },
    {
      "cell_type": "markdown",
      "metadata": {
        "id": "H00bg_11QhsQ"
      },
      "source": [
        "The code below is for the training of the model. \n",
        "\n",
        "The number of epochs that I set was 25. \n",
        "\n",
        "Throughout the training process, the loss and acc values are shown per epoch. As the epoch further progresses, loss is decreased and acc is increased. This can be shown by the plots.\n",
        "\n",
        "After the model is trained, the plots of the train loss, train acc, val loss, and val acc are shown.\n",
        "\n"
      ]
    },
    {
      "cell_type": "code",
      "metadata": {
        "id": "x8ATx87KPGOy"
      },
      "source": [
        "def train_model(model, criterion, optimizer, scheduler, num_epochs=25):\n",
        "    since = time.time()\n",
        "    train_array_loss = []\n",
        "    train_array_acc = []\n",
        "    val_array_loss = []\n",
        "    val_array_acc = []\n",
        "    best_model_wts = copy.deepcopy(model.state_dict())\n",
        "    best_acc = 0.0\n",
        "\n",
        "    for epoch in range(num_epochs):\n",
        "        print('Epoch {}/{}'.format(epoch, num_epochs - 1))\n",
        "        print('-' * 10)\n",
        "\n",
        "        # Each epoch has a training and validation phase\n",
        "        for phase in ['train', 'val']:\n",
        "            if phase == 'train':\n",
        "                model.train()  # Set model to training mode\n",
        "            else:\n",
        "                model.eval()   # Set model to evaluate mode\n",
        "\n",
        "            running_loss = 0.0\n",
        "            running_corrects = 0\n",
        "\n",
        "            # Iterate over data.\n",
        "            for inputs, labels in dataloaders[phase]:\n",
        "                inputs = inputs.to(device)\n",
        "                labels = labels.to(device)\n",
        "\n",
        "                # zero the parameter gradients\n",
        "                optimizer.zero_grad()\n",
        "\n",
        "                # forward\n",
        "                # track history if only in train\n",
        "                with torch.set_grad_enabled(phase == 'train'):\n",
        "                    outputs = model(inputs)\n",
        "                    _, preds = torch.max(outputs, 1)\n",
        "                    loss = criterion(outputs, labels)\n",
        "\n",
        "                    # backward + optimize only if in training phase\n",
        "                    if phase == 'train':\n",
        "                        loss.backward()\n",
        "                        optimizer.step()\n",
        "\n",
        "                # statistics\n",
        "                running_loss += loss.item() * inputs.size(0)\n",
        "                running_corrects += torch.sum(preds == labels.data)\n",
        "            if phase == 'train':\n",
        "                scheduler.step()\n",
        "\n",
        "            epoch_loss = running_loss / dataset_sizes[phase]\n",
        "            epoch_acc = running_corrects.double() / dataset_sizes[phase]\n",
        "            print('{} Loss: {:.4f} Acc: {:.4f}'.format(phase, epoch_loss, epoch_acc))\n",
        "            \n",
        "            #get details for plot\n",
        "            if phase == 'train':\n",
        "                train_array_loss.append(epoch_loss)\n",
        "                train_array_acc.append(epoch_acc)\n",
        "            if phase == 'val':\n",
        "                val_array_loss.append(epoch_loss)\n",
        "                val_array_acc.append(epoch_acc)\n",
        "\n",
        "            # deep copy the model\n",
        "            if phase == 'val' and epoch_acc > best_acc:\n",
        "                best_acc = epoch_acc\n",
        "                best_model_wts = copy.deepcopy(model.state_dict())\n",
        "\n",
        "        print()\n",
        "\n",
        "    # Print the plots of the loss and acc values for train and val\n",
        "    #plt.subplot(1,2,1)\n",
        "    plt.plot(train_array_loss, label = 'Train Loss')\n",
        "    plt.plot(train_array_acc, label = 'Train Acc')\n",
        "    plt.legend()\n",
        "    plt.title('Train data loss and acc')\n",
        "    plt.xlabel('Epoch')\n",
        "    plt.ylabel('Value')\n",
        "    plt.show()\n",
        "    #plt.subplot(1,2,2)\n",
        "    plt.plot(val_array_loss, label = 'Val Loss')\n",
        "    plt.plot(val_array_acc, label = 'Val Acc')\n",
        "    plt.legend()\n",
        "    plt.title('Val data loss and acc')\n",
        "    plt.xlabel('Epoch')\n",
        "    plt.ylabel('Value')\n",
        "    plt.show()\n",
        "\n",
        "    time_elapsed = time.time() - since\n",
        "    print('Training complete in {:.0f}m {:.0f}s'.format(time_elapsed // 60, time_elapsed % 60))\n",
        "    print('Best val Acc: {:4f}'.format(best_acc))\n",
        "\n",
        "    # load best model weights\n",
        "    model.load_state_dict(best_model_wts)\n",
        "  \n",
        "\n",
        "    return model"
      ],
      "execution_count": 17,
      "outputs": []
    },
    {
      "cell_type": "markdown",
      "metadata": {
        "id": "GMgMeAqyRWrY"
      },
      "source": [
        "The function below is for visualization purposes. We can see here the image and the predicted number of that image."
      ]
    },
    {
      "cell_type": "code",
      "metadata": {
        "id": "B1vdOJpkPHGS"
      },
      "source": [
        "def visualize_model(model, num_images=10):\n",
        "    was_training = model.training\n",
        "    model.eval()\n",
        "    images_so_far = 0\n",
        "    fig = plt.figure()\n",
        "\n",
        "    with torch.no_grad():\n",
        "        for i, (inputs, labels) in enumerate(dataloaders['val']):\n",
        "            inputs = inputs.to(device)\n",
        "            labels = labels.to(device)\n",
        "\n",
        "            outputs = model(inputs)\n",
        "            _, preds = torch.max(outputs, 1)\n",
        "\n",
        "            for j in range(inputs.size()[0]):\n",
        "                images_so_far += 1\n",
        "                ax = plt.subplot(num_images//2, 2, images_so_far)\n",
        "                ax.axis('off')\n",
        "                ax.set_title('predicted: {}'.format(class_names[preds[j]]))\n",
        "                imshow(inputs.cpu().data[j])\n",
        "\n",
        "                if images_so_far == num_images:\n",
        "                    model.train(mode=was_training)\n",
        "                    return\n",
        "        model.train(mode=was_training)"
      ],
      "execution_count": 18,
      "outputs": []
    },
    {
      "cell_type": "markdown",
      "metadata": {
        "id": "Pn8aUwOiMzlz"
      },
      "source": [
        "# **Training of the three models**\n",
        "\n",
        "---\n",
        "The models used are:\n",
        "\n",
        "*   resnet18\n",
        "*   wide_resnet50_2\n",
        "*   resnext50_32x4d\n",
        "\n",
        "The models were trained with:\n",
        "\n",
        "*   batch size = 1024\n",
        "*   epoch = 25\n",
        "\n",
        "The plots for the train loss/accuracy and val loss/accuracy are shown after the 25 epochs are completed."
      ]
    },
    {
      "cell_type": "markdown",
      "metadata": {
        "id": "VkX4lnOfRgp4"
      },
      "source": [
        "# **resnet18 model**"
      ]
    },
    {
      "cell_type": "code",
      "metadata": {
        "id": "hl-3-orPPNRR"
      },
      "source": [
        "model_ft = models.resnet18(pretrained=True)\n",
        "num_ftrs = model_ft.fc.in_features\n",
        "# Here the size of each output sample is set to 2.\n",
        "# Alternatively, it can be generalized to nn.Linear(num_ftrs, len(class_names)).\n",
        "model_ft.fc = nn.Linear(num_ftrs, len(class_names))\n",
        "\n",
        "model_ft = model_ft.to(device)\n",
        "\n",
        "criterion = nn.CrossEntropyLoss()\n",
        "\n",
        "# Observe that all parameters are being optimized\n",
        "optimizer_ft = optim.SGD(model_ft.parameters(), lr=0.001, momentum=0.9)\n",
        "\n",
        "# Decay LR by a factor of 0.1 every 7 epochs\n",
        "exp_lr_scheduler = lr_scheduler.StepLR(optimizer_ft, step_size=7, gamma=0.1)"
      ],
      "execution_count": 20,
      "outputs": []
    },
    {
      "cell_type": "code",
      "metadata": {
        "id": "Kt2JLeuKPREH",
        "colab": {
          "base_uri": "https://localhost:8080/",
          "height": 1000
        },
        "outputId": "4317d68a-434f-42bf-9a65-0741138cadaa"
      },
      "source": [
        "print('Training resnet18 model..')\n",
        "model_ft = train_model(model_ft, criterion, optimizer_ft, exp_lr_scheduler, num_epochs=25)"
      ],
      "execution_count": 21,
      "outputs": [
        {
          "output_type": "stream",
          "text": [
            "Training resnet18 model..\n",
            "Epoch 0/24\n",
            "----------\n",
            "train Loss: 2.0310 Acc: 0.2919\n",
            "val Loss: 1.6278 Acc: 0.4386\n",
            "\n",
            "Epoch 1/24\n",
            "----------\n",
            "train Loss: 1.3845 Acc: 0.5265\n",
            "val Loss: 1.1447 Acc: 0.6105\n",
            "\n",
            "Epoch 2/24\n",
            "----------\n",
            "train Loss: 0.9883 Acc: 0.6641\n",
            "val Loss: 0.8819 Acc: 0.7049\n",
            "\n",
            "Epoch 3/24\n",
            "----------\n",
            "train Loss: 0.7724 Acc: 0.7387\n",
            "val Loss: 0.7402 Acc: 0.7541\n",
            "\n",
            "Epoch 4/24\n",
            "----------\n",
            "train Loss: 0.6411 Acc: 0.7863\n",
            "val Loss: 0.6468 Acc: 0.7888\n",
            "\n",
            "Epoch 5/24\n",
            "----------\n",
            "train Loss: 0.5530 Acc: 0.8165\n",
            "val Loss: 0.5894 Acc: 0.8103\n",
            "\n",
            "Epoch 6/24\n",
            "----------\n",
            "train Loss: 0.4881 Acc: 0.8392\n",
            "val Loss: 0.5480 Acc: 0.8251\n",
            "\n",
            "Epoch 7/24\n",
            "----------\n",
            "train Loss: 0.4432 Acc: 0.8556\n",
            "val Loss: 0.5410 Acc: 0.8271\n",
            "\n",
            "Epoch 8/24\n",
            "----------\n",
            "train Loss: 0.4383 Acc: 0.8572\n",
            "val Loss: 0.5400 Acc: 0.8267\n",
            "\n",
            "Epoch 9/24\n",
            "----------\n",
            "train Loss: 0.4337 Acc: 0.8590\n",
            "val Loss: 0.5370 Acc: 0.8279\n",
            "\n",
            "Epoch 10/24\n",
            "----------\n",
            "train Loss: 0.4295 Acc: 0.8602\n",
            "val Loss: 0.5338 Acc: 0.8297\n",
            "\n",
            "Epoch 11/24\n",
            "----------\n",
            "train Loss: 0.4240 Acc: 0.8614\n",
            "val Loss: 0.5317 Acc: 0.8299\n",
            "\n",
            "Epoch 12/24\n",
            "----------\n",
            "train Loss: 0.4205 Acc: 0.8630\n",
            "val Loss: 0.5279 Acc: 0.8315\n",
            "\n",
            "Epoch 13/24\n",
            "----------\n",
            "train Loss: 0.4142 Acc: 0.8645\n",
            "val Loss: 0.5259 Acc: 0.8321\n",
            "\n",
            "Epoch 14/24\n",
            "----------\n",
            "train Loss: 0.4113 Acc: 0.8668\n",
            "val Loss: 0.5265 Acc: 0.8323\n",
            "\n",
            "Epoch 15/24\n",
            "----------\n",
            "train Loss: 0.4110 Acc: 0.8662\n",
            "val Loss: 0.5256 Acc: 0.8329\n",
            "\n",
            "Epoch 16/24\n",
            "----------\n",
            "train Loss: 0.4097 Acc: 0.8666\n",
            "val Loss: 0.5256 Acc: 0.8329\n",
            "\n",
            "Epoch 17/24\n",
            "----------\n",
            "train Loss: 0.4106 Acc: 0.8670\n",
            "val Loss: 0.5256 Acc: 0.8322\n",
            "\n",
            "Epoch 18/24\n",
            "----------\n",
            "train Loss: 0.4091 Acc: 0.8670\n",
            "val Loss: 0.5256 Acc: 0.8330\n",
            "\n",
            "Epoch 19/24\n",
            "----------\n",
            "train Loss: 0.4091 Acc: 0.8676\n",
            "val Loss: 0.5253 Acc: 0.8319\n",
            "\n",
            "Epoch 20/24\n",
            "----------\n",
            "train Loss: 0.4092 Acc: 0.8670\n",
            "val Loss: 0.5243 Acc: 0.8332\n",
            "\n",
            "Epoch 21/24\n",
            "----------\n",
            "train Loss: 0.4077 Acc: 0.8683\n",
            "val Loss: 0.5255 Acc: 0.8325\n",
            "\n",
            "Epoch 22/24\n",
            "----------\n",
            "train Loss: 0.4081 Acc: 0.8678\n",
            "val Loss: 0.5245 Acc: 0.8327\n",
            "\n",
            "Epoch 23/24\n",
            "----------\n",
            "train Loss: 0.4084 Acc: 0.8674\n",
            "val Loss: 0.5245 Acc: 0.8331\n",
            "\n",
            "Epoch 24/24\n",
            "----------\n",
            "train Loss: 0.4076 Acc: 0.8674\n",
            "val Loss: 0.5238 Acc: 0.8328\n",
            "\n"
          ],
          "name": "stdout"
        },
        {
          "output_type": "display_data",
          "data": {
            "image/png": "[encoded data removed]",
            "text/plain": [
              "<Figure size 432x288 with 1 Axes>"
            ]
          },
          "metadata": {
            "tags": [],
            "needs_background": "light"
          }
        },
        {
          "output_type": "display_data",
          "data": {
            "image/png": "[encoded data removed]",
            "text/plain": [
              "<Figure size 432x288 with 1 Axes>"
            ]
          },
          "metadata": {
            "tags": [],
            "needs_background": "light"
          }
        },
        {
          "output_type": "stream",
          "text": [
            "Training complete in 39m 7s\n",
            "Best val Acc: 0.833160\n"
          ],
          "name": "stdout"
        }
      ]
    },
    {
      "cell_type": "code",
      "metadata": {
        "id": "LA0CsqJtRJ7C",
        "colab": {
          "base_uri": "https://localhost:8080/",
          "height": 687
        },
        "outputId": "601ed348-8cfd-45a6-b355-235c4cbcf77a"
      },
      "source": [
        "visualize_model(model_ft)"
      ],
      "execution_count": 24,
      "outputs": [
        {
          "output_type": "display_data",
          "data": {
            "image/png": "[encoded data removed]",
            "text/plain": [
              "<Figure size 432x288 with 1 Axes>"
            ]
          },
          "metadata": {
            "tags": [],
            "needs_background": "light"
          }
        },
        {
          "output_type": "display_data",
          "data": {
            "image/png": "[encoded data removed]",
            "text/plain": [
              "<Figure size 432x288 with 1 Axes>"
            ]
          },
          "metadata": {
            "tags": [],
            "needs_background": "light"
          }
        },
        {
          "output_type": "display_data",
          "data": {
            "image/png": "[encoded data removed]",
            "text/plain": [
              "<Figure size 432x288 with 1 Axes>"
            ]
          },
          "metadata": {
            "tags": [],
            "needs_background": "light"
          }
        },
        {
          "output_type": "display_data",
          "data": {
            "image/png": "[encoded data removed]",
            "text/plain": [
              "<Figure size 432x288 with 1 Axes>"
            ]
          },
          "metadata": {
            "tags": [],
            "needs_background": "light"
          }
        },
        {
          "output_type": "display_data",
          "data": {
            "image/png": "[encoded data removed]",
            "text/plain": [
              "<Figure size 432x288 with 1 Axes>"
            ]
          },
          "metadata": {
            "tags": [],
            "needs_background": "light"
          }
        },
        {
          "output_type": "display_data",
          "data": {
            "image/png": "[encoded data removed]",
            "text/plain": [
              "<Figure size 432x288 with 1 Axes>"
            ]
          },
          "metadata": {
            "tags": [],
            "needs_background": "light"
          }
        },
        {
          "output_type": "display_data",
          "data": {
            "image/png": "[encoded data removed]",
            "text/plain": [
              "<Figure size 432x288 with 1 Axes>"
            ]
          },
          "metadata": {
            "tags": [],
            "needs_background": "light"
          }
        },
        {
          "output_type": "display_data",
          "data": {
            "image/png": "[encoded data removed]",
            "text/plain": [
              "<Figure size 432x288 with 1 Axes>"
            ]
          },
          "metadata": {
            "tags": [],
            "needs_background": "light"
          }
        },
        {
          "output_type": "display_data",
          "data": {
            "image/png": "[encoded data removed]",
            "text/plain": [
              "<Figure size 432x288 with 1 Axes>"
            ]
          },
          "metadata": {
            "tags": [],
            "needs_background": "light"
          }
        },
        {
          "output_type": "display_data",
          "data": {
            "image/png": "[encoded data removed]",
            "text/plain": [
              "<Figure size 432x288 with 1 Axes>"
            ]
          },
          "metadata": {
            "tags": [],
            "needs_background": "light"
          }
        }
      ]
    },
    {
      "cell_type": "markdown",
      "metadata": {
        "id": "ECweeoqlR4qn"
      },
      "source": [
        "# **wide_resnet50_2 model**"
      ]
    },
    {
      "cell_type": "code",
      "metadata": {
        "id": "VfWvEurMAeDn"
      },
      "source": [
        "model_ft = models.wide_resnet50_2(pretrained=True)\n",
        "num_ftrs = model_ft.fc.in_features\n",
        "# Here the size of each output sample is set to 2.\n",
        "# Alternatively, it can be generalized to nn.Linear(num_ftrs, len(class_names)).\n",
        "model_ft.fc = nn.Linear(num_ftrs, len(class_names))\n",
        "\n",
        "model_ft = model_ft.to(device)\n",
        "\n",
        "criterion = nn.CrossEntropyLoss()\n",
        "\n",
        "# Observe that all parameters are being optimized\n",
        "optimizer_ft = optim.SGD(model_ft.parameters(), lr=0.001, momentum=0.9)\n",
        "\n",
        "# Decay LR by a factor of 0.1 every 7 epochs\n",
        "exp_lr_scheduler = lr_scheduler.StepLR(optimizer_ft, step_size=7, gamma=0.1)"
      ],
      "execution_count": 28,
      "outputs": []
    },
    {
      "cell_type": "code",
      "metadata": {
        "id": "aEHA3E41BsMe",
        "colab": {
          "base_uri": "https://localhost:8080/",
          "height": 1000
        },
        "outputId": "e57fb18d-86f2-454d-f7a8-2543457383ef"
      },
      "source": [
        "print('Training wide_resnet50_2 model..')\n",
        "model_ft = train_model(model_ft, criterion, optimizer_ft, exp_lr_scheduler, num_epochs=25)"
      ],
      "execution_count": 29,
      "outputs": [
        {
          "output_type": "stream",
          "text": [
            "Training wide_resnet50_2 model..\n",
            "Epoch 0/24\n",
            "----------\n",
            "train Loss: 2.1918 Acc: 0.2082\n",
            "val Loss: 2.0127 Acc: 0.2832\n",
            "\n",
            "Epoch 1/24\n",
            "----------\n",
            "train Loss: 1.7610 Acc: 0.3962\n",
            "val Loss: 1.5461 Acc: 0.4789\n",
            "\n",
            "Epoch 2/24\n",
            "----------\n",
            "train Loss: 1.2734 Acc: 0.5810\n",
            "val Loss: 1.1420 Acc: 0.6155\n",
            "\n",
            "Epoch 3/24\n",
            "----------\n",
            "train Loss: 0.8920 Acc: 0.7053\n",
            "val Loss: 0.9208 Acc: 0.6941\n",
            "\n",
            "Epoch 4/24\n",
            "----------\n",
            "train Loss: 0.6333 Acc: 0.7940\n",
            "val Loss: 0.8152 Acc: 0.7367\n",
            "\n",
            "Epoch 5/24\n",
            "----------\n",
            "train Loss: 0.4522 Acc: 0.8582\n",
            "val Loss: 0.7720 Acc: 0.7563\n",
            "\n",
            "Epoch 6/24\n",
            "----------\n",
            "train Loss: 0.3191 Acc: 0.9063\n",
            "val Loss: 0.7592 Acc: 0.7661\n",
            "\n",
            "Epoch 7/24\n",
            "----------\n",
            "train Loss: 0.2283 Acc: 0.9443\n",
            "val Loss: 0.7617 Acc: 0.7674\n",
            "\n",
            "Epoch 8/24\n",
            "----------\n",
            "train Loss: 0.2165 Acc: 0.9479\n",
            "val Loss: 0.7656 Acc: 0.7668\n",
            "\n",
            "Epoch 9/24\n",
            "----------\n",
            "train Loss: 0.2064 Acc: 0.9521\n",
            "val Loss: 0.7631 Acc: 0.7685\n",
            "\n",
            "Epoch 10/24\n",
            "----------\n",
            "train Loss: 0.1967 Acc: 0.9547\n",
            "val Loss: 0.7630 Acc: 0.7684\n",
            "\n",
            "Epoch 11/24\n",
            "----------\n",
            "train Loss: 0.1889 Acc: 0.9574\n",
            "val Loss: 0.7676 Acc: 0.7670\n",
            "\n",
            "Epoch 12/24\n",
            "----------\n",
            "train Loss: 0.1797 Acc: 0.9606\n",
            "val Loss: 0.7702 Acc: 0.7684\n",
            "\n",
            "Epoch 13/24\n",
            "----------\n",
            "train Loss: 0.1713 Acc: 0.9642\n",
            "val Loss: 0.7711 Acc: 0.7675\n",
            "\n",
            "Epoch 14/24\n",
            "----------\n",
            "train Loss: 0.1657 Acc: 0.9654\n",
            "val Loss: 0.7707 Acc: 0.7690\n",
            "\n",
            "Epoch 15/24\n",
            "----------\n",
            "train Loss: 0.1649 Acc: 0.9662\n",
            "val Loss: 0.7693 Acc: 0.7688\n",
            "\n",
            "Epoch 16/24\n",
            "----------\n",
            "train Loss: 0.1637 Acc: 0.9664\n",
            "val Loss: 0.7741 Acc: 0.7680\n",
            "\n",
            "Epoch 17/24\n",
            "----------\n",
            "train Loss: 0.1643 Acc: 0.9659\n",
            "val Loss: 0.7714 Acc: 0.7681\n",
            "\n",
            "Epoch 18/24\n",
            "----------\n",
            "train Loss: 0.1630 Acc: 0.9662\n",
            "val Loss: 0.7702 Acc: 0.7700\n",
            "\n",
            "Epoch 19/24\n",
            "----------\n",
            "train Loss: 0.1623 Acc: 0.9673\n",
            "val Loss: 0.7726 Acc: 0.7685\n",
            "\n",
            "Epoch 20/24\n",
            "----------\n",
            "train Loss: 0.1613 Acc: 0.9674\n",
            "val Loss: 0.7716 Acc: 0.7699\n",
            "\n",
            "Epoch 21/24\n",
            "----------\n",
            "train Loss: 0.1605 Acc: 0.9677\n",
            "val Loss: 0.7731 Acc: 0.7684\n",
            "\n",
            "Epoch 22/24\n",
            "----------\n",
            "train Loss: 0.1606 Acc: 0.9673\n",
            "val Loss: 0.7690 Acc: 0.7697\n",
            "\n",
            "Epoch 23/24\n",
            "----------\n",
            "train Loss: 0.1617 Acc: 0.9673\n",
            "val Loss: 0.7735 Acc: 0.7689\n",
            "\n",
            "Epoch 24/24\n",
            "----------\n",
            "train Loss: 0.1601 Acc: 0.9679\n",
            "val Loss: 0.7722 Acc: 0.7694\n",
            "\n"
          ],
          "name": "stdout"
        },
        {
          "output_type": "display_data",
          "data": {
            "image/png": "[encoded data removed]",
            "text/plain": [
              "<Figure size 432x288 with 1 Axes>"
            ]
          },
          "metadata": {
            "tags": [],
            "needs_background": "light"
          }
        },
        {
          "output_type": "display_data",
          "data": {
            "image/png": "[encoded data removed]",
            "text/plain": [
              "<Figure size 432x288 with 1 Axes>"
            ]
          },
          "metadata": {
            "tags": [],
            "needs_background": "light"
          }
        },
        {
          "output_type": "stream",
          "text": [
            "Training complete in 91m 9s\n",
            "Best val Acc: 0.770005\n"
          ],
          "name": "stdout"
        }
      ]
    },
    {
      "cell_type": "code",
      "metadata": {
        "id": "eE10f8m6AkZ6",
        "colab": {
          "base_uri": "https://localhost:8080/",
          "height": 687
        },
        "outputId": "13e2ac7b-7502-4b30-d162-59c5db0b3637"
      },
      "source": [
        "visualize_model(model_ft)"
      ],
      "execution_count": 36,
      "outputs": [
        {
          "output_type": "display_data",
          "data": {
            "image/png": "[encoded data removed]",
            "text/plain": [
              "<Figure size 432x288 with 1 Axes>"
            ]
          },
          "metadata": {
            "tags": [],
            "needs_background": "light"
          }
        },
        {
          "output_type": "display_data",
          "data": {
            "image/png": "[encoded data removed]",
            "text/plain": [
              "<Figure size 432x288 with 1 Axes>"
            ]
          },
          "metadata": {
            "tags": [],
            "needs_background": "light"
          }
        },
        {
          "output_type": "display_data",
          "data": {
            "image/png": "[encoded data removed]",
            "text/plain": [
              "<Figure size 432x288 with 1 Axes>"
            ]
          },
          "metadata": {
            "tags": [],
            "needs_background": "light"
          }
        },
        {
          "output_type": "display_data",
          "data": {
            "image/png": "[encoded data removed]",
            "text/plain": [
              "<Figure size 432x288 with 1 Axes>"
            ]
          },
          "metadata": {
            "tags": [],
            "needs_background": "light"
          }
        },
        {
          "output_type": "display_data",
          "data": {
            "image/png": "[encoded data removed]",
            "text/plain": [
              "<Figure size 432x288 with 1 Axes>"
            ]
          },
          "metadata": {
            "tags": [],
            "needs_background": "light"
          }
        },
        {
          "output_type": "display_data",
          "data": {
            "image/png": "[encoded data removed]",
            "text/plain": [
              "<Figure size 432x288 with 1 Axes>"
            ]
          },
          "metadata": {
            "tags": [],
            "needs_background": "light"
          }
        },
        {
          "output_type": "display_data",
          "data": {
            "image/png": "[encoded data removed]",
            "text/plain": [
              "<Figure size 432x288 with 1 Axes>"
            ]
          },
          "metadata": {
            "tags": [],
            "needs_background": "light"
          }
        },
        {
          "output_type": "display_data",
          "data": {
            "image/png": "[encoded data removed]",
            "text/plain": [
              "<Figure size 432x288 with 1 Axes>"
            ]
          },
          "metadata": {
            "tags": [],
            "needs_background": "light"
          }
        },
        {
          "output_type": "display_data",
          "data": {
            "image/png": "[encoded data removed]",
            "text/plain": [
              "<Figure size 432x288 with 1 Axes>"
            ]
          },
          "metadata": {
            "tags": [],
            "needs_background": "light"
          }
        },
        {
          "output_type": "display_data",
          "data": {
            "image/png": "[encoded data removed]",
            "text/plain": [
              "<Figure size 432x288 with 1 Axes>"
            ]
          },
          "metadata": {
            "tags": [],
            "needs_background": "light"
          }
        }
      ]
    },
    {
      "cell_type": "markdown",
      "metadata": {
        "id": "OwUCnwNVSJ1V"
      },
      "source": [
        "# **resnext50_32x4d model**"
      ]
    },
    {
      "cell_type": "code",
      "metadata": {
        "id": "OT5PEVksGdUT"
      },
      "source": [
        "model_ft = models.resnext50_32x4d(pretrained=True)\n",
        "num_ftrs = model_ft.fc.in_features\n",
        "# Here the size of each output sample is set to 2.\n",
        "# Alternatively, it can be generalized to nn.Linear(num_ftrs, len(class_names)).\n",
        "model_ft.fc = nn.Linear(num_ftrs, len(class_names))\n",
        "\n",
        "model_ft = model_ft.to(device)\n",
        "\n",
        "criterion = nn.CrossEntropyLoss()\n",
        "\n",
        "# Observe that all parameters are being optimized\n",
        "optimizer_ft = optim.SGD(model_ft.parameters(), lr=0.001, momentum=0.9)\n",
        "\n",
        "# Decay LR by a factor of 0.1 every 7 epochs\n",
        "exp_lr_scheduler = lr_scheduler.StepLR(optimizer_ft, step_size=7, gamma=0.1)"
      ],
      "execution_count": 43,
      "outputs": []
    },
    {
      "cell_type": "code",
      "metadata": {
        "id": "f-PfNXhNGdNY",
        "colab": {
          "base_uri": "https://localhost:8080/",
          "height": 1000
        },
        "outputId": "a68397d5-9fe2-410e-f9cb-c99bcd14a975"
      },
      "source": [
        "print('Training resnext50_32x4d model..')\n",
        "model_ft = train_model(model_ft, criterion, optimizer_ft, exp_lr_scheduler, num_epochs=25)"
      ],
      "execution_count": 45,
      "outputs": [
        {
          "output_type": "stream",
          "text": [
            "Training resnext50_32x4d model..\n",
            "Epoch 0/24\n",
            "----------\n",
            "train Loss: 2.0160 Acc: 0.2720\n",
            "val Loss: 1.6914 Acc: 0.3893\n",
            "\n",
            "Epoch 1/24\n",
            "----------\n",
            "train Loss: 1.4489 Acc: 0.4884\n",
            "val Loss: 1.1809 Acc: 0.5816\n",
            "\n",
            "Epoch 2/24\n",
            "----------\n",
            "train Loss: 1.0035 Acc: 0.6525\n",
            "val Loss: 0.8861 Acc: 0.7015\n",
            "\n",
            "Epoch 3/24\n",
            "----------\n",
            "train Loss: 0.7148 Acc: 0.7613\n",
            "val Loss: 0.7240 Acc: 0.7596\n",
            "\n",
            "Epoch 4/24\n",
            "----------\n",
            "train Loss: 0.5297 Acc: 0.8267\n",
            "val Loss: 0.6511 Acc: 0.7875\n",
            "\n",
            "Epoch 5/24\n",
            "----------\n",
            "train Loss: 0.4039 Acc: 0.8732\n",
            "val Loss: 0.6221 Acc: 0.8037\n",
            "\n",
            "Epoch 6/24\n",
            "----------\n",
            "train Loss: 0.3048 Acc: 0.9084\n",
            "val Loss: 0.6291 Acc: 0.8054\n",
            "\n",
            "Epoch 7/24\n",
            "----------\n",
            "train Loss: 0.2293 Acc: 0.9362\n",
            "val Loss: 0.6208 Acc: 0.8094\n",
            "\n",
            "Epoch 8/24\n",
            "----------\n",
            "train Loss: 0.2177 Acc: 0.9414\n",
            "val Loss: 0.6240 Acc: 0.8100\n",
            "\n",
            "Epoch 9/24\n",
            "----------\n",
            "train Loss: 0.2084 Acc: 0.9440\n",
            "val Loss: 0.6266 Acc: 0.8103\n",
            "\n",
            "Epoch 10/24\n",
            "----------\n",
            "train Loss: 0.2005 Acc: 0.9461\n",
            "val Loss: 0.6309 Acc: 0.8098\n",
            "\n",
            "Epoch 11/24\n",
            "----------\n",
            "train Loss: 0.1929 Acc: 0.9497\n",
            "val Loss: 0.6331 Acc: 0.8093\n",
            "\n",
            "Epoch 12/24\n",
            "----------\n",
            "train Loss: 0.1859 Acc: 0.9516\n",
            "val Loss: 0.6336 Acc: 0.8109\n",
            "\n",
            "Epoch 13/24\n",
            "----------\n",
            "train Loss: 0.1793 Acc: 0.9539\n",
            "val Loss: 0.6374 Acc: 0.8100\n",
            "\n",
            "Epoch 14/24\n",
            "----------\n",
            "train Loss: 0.1726 Acc: 0.9556\n",
            "val Loss: 0.6384 Acc: 0.8101\n",
            "\n",
            "Epoch 15/24\n",
            "----------\n",
            "train Loss: 0.1722 Acc: 0.9564\n",
            "val Loss: 0.6391 Acc: 0.8102\n",
            "\n",
            "Epoch 16/24\n",
            "----------\n",
            "train Loss: 0.1713 Acc: 0.9566\n",
            "val Loss: 0.6389 Acc: 0.8103\n",
            "\n",
            "Epoch 17/24\n",
            "----------\n",
            "train Loss: 0.1697 Acc: 0.9572\n",
            "val Loss: 0.6366 Acc: 0.8110\n",
            "\n",
            "Epoch 18/24\n",
            "----------\n",
            "train Loss: 0.1689 Acc: 0.9577\n",
            "val Loss: 0.6383 Acc: 0.8094\n",
            "\n",
            "Epoch 19/24\n",
            "----------\n",
            "train Loss: 0.1686 Acc: 0.9577\n",
            "val Loss: 0.6387 Acc: 0.8109\n",
            "\n",
            "Epoch 20/24\n",
            "----------\n",
            "train Loss: 0.1689 Acc: 0.9572\n",
            "val Loss: 0.6399 Acc: 0.8099\n",
            "\n",
            "Epoch 21/24\n",
            "----------\n",
            "train Loss: 0.1669 Acc: 0.9578\n",
            "val Loss: 0.6416 Acc: 0.8101\n",
            "\n",
            "Epoch 22/24\n",
            "----------\n",
            "train Loss: 0.1667 Acc: 0.9584\n",
            "val Loss: 0.6409 Acc: 0.8105\n",
            "\n",
            "Epoch 23/24\n",
            "----------\n",
            "train Loss: 0.1676 Acc: 0.9580\n",
            "val Loss: 0.6409 Acc: 0.8097\n",
            "\n",
            "Epoch 24/24\n",
            "----------\n",
            "train Loss: 0.1674 Acc: 0.9585\n",
            "val Loss: 0.6417 Acc: 0.8096\n",
            "\n"
          ],
          "name": "stdout"
        },
        {
          "output_type": "display_data",
          "data": {
            "image/png": "[encoded data removed]",
            "text/plain": [
              "<Figure size 432x288 with 1 Axes>"
            ]
          },
          "metadata": {
            "tags": [],
            "needs_background": "light"
          }
        },
        {
          "output_type": "display_data",
          "data": {
            "image/png": "[encoded data removed]",
            "text/plain": [
              "<Figure size 432x288 with 1 Axes>"
            ]
          },
          "metadata": {
            "tags": [],
            "needs_background": "light"
          }
        },
        {
          "output_type": "stream",
          "text": [
            "Training complete in 41m 57s\n",
            "Best val Acc: 0.810995\n"
          ],
          "name": "stdout"
        }
      ]
    },
    {
      "cell_type": "code",
      "metadata": {
        "id": "naEdQcbNGdBz",
        "colab": {
          "base_uri": "https://localhost:8080/",
          "height": 687
        },
        "outputId": "af68390c-5a2b-49e6-f692-63ac262b0ee1"
      },
      "source": [
        "visualize_model(model_ft)"
      ],
      "execution_count": 49,
      "outputs": [
        {
          "output_type": "display_data",
          "data": {
            "image/png": "[encoded data removed]",
            "text/plain": [
              "<Figure size 432x288 with 1 Axes>"
            ]
          },
          "metadata": {
            "tags": [],
            "needs_background": "light"
          }
        },
        {
          "output_type": "display_data",
          "data": {
            "image/png": "[encoded data removed]",
            "text/plain": [
              "<Figure size 432x288 with 1 Axes>"
            ]
          },
          "metadata": {
            "tags": [],
            "needs_background": "light"
          }
        },
        {
          "output_type": "display_data",
          "data": {
            "image/png": "[encoded data removed]",
            "text/plain": [
              "<Figure size 432x288 with 1 Axes>"
            ]
          },
          "metadata": {
            "tags": [],
            "needs_background": "light"
          }
        },
        {
          "output_type": "display_data",
          "data": {
            "image/png": "[encoded data removed]",
            "text/plain": [
              "<Figure size 432x288 with 1 Axes>"
            ]
          },
          "metadata": {
            "tags": [],
            "needs_background": "light"
          }
        },
        {
          "output_type": "display_data",
          "data": {
            "image/png": "[encoded data removed]",
            "text/plain": [
              "<Figure size 432x288 with 1 Axes>"
            ]
          },
          "metadata": {
            "tags": [],
            "needs_background": "light"
          }
        },
        {
          "output_type": "display_data",
          "data": {
            "image/png": "[encoded data removed]",
            "text/plain": [
              "<Figure size 432x288 with 1 Axes>"
            ]
          },
          "metadata": {
            "tags": [],
            "needs_background": "light"
          }
        },
        {
          "output_type": "display_data",
          "data": {
            "image/png": "[encoded data removed]",
            "text/plain": [
              "<Figure size 432x288 with 1 Axes>"
            ]
          },
          "metadata": {
            "tags": [],
            "needs_background": "light"
          }
        },
        {
          "output_type": "display_data",
          "data": {
            "image/png": "[encoded data removed]",
            "text/plain": [
              "<Figure size 432x288 with 1 Axes>"
            ]
          },
          "metadata": {
            "tags": [],
            "needs_background": "light"
          }
        },
        {
          "output_type": "display_data",
          "data": {
            "image/png": "[encoded data removed]",
            "text/plain": [
              "<Figure size 432x288 with 1 Axes>"
            ]
          },
          "metadata": {
            "tags": [],
            "needs_background": "light"
          }
        },
        {
          "output_type": "display_data",
          "data": {
            "image/png": "[encoded data removed]",
            "text/plain": [
              "<Figure size 432x288 with 1 Axes>"
            ]
          },
          "metadata": {
            "tags": [],
            "needs_background": "light"
          }
        }
      ]
    }
  ]
}