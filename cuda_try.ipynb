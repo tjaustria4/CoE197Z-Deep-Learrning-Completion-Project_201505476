{
  "nbformat": 4,
  "nbformat_minor": 0,
  "metadata": {
    "colab": {
      "name": "cuda try.ipynb",
      "provenance": [],
      "collapsed_sections": [],
      "authorship_tag": "ABX9TyNpdEqTN3A2itBQkDXhz7Ly",
      "include_colab_link": true
    },
    "kernelspec": {
      "name": "python3",
      "display_name": "Python 3"
    },
    "language_info": {
      "name": "python"
    },
    "accelerator": "TPU"
  },
  "cells": [
    {
      "cell_type": "markdown",
      "metadata": {
        "id": "view-in-github",
        "colab_type": "text"
      },
      "source": [
        "<a href=\"https://colab.research.google.com/github/tjaustria4/Google-Colab-Try/blob/main/cuda_try.ipynb\" target=\"_parent\"><img src=\"https://colab.research.google.com/assets/colab-badge.svg\" alt=\"Open In Colab\"/></a>"
      ]
    },
    {
      "cell_type": "markdown",
      "metadata": {
        "id": "Yu_eyk7t-DVJ"
      },
      "source": [
        "# **CoE 197Z - Deep Learning Completion Project**\n",
        "\n",
        "---\n",
        "\n",
        "\n",
        "Theodore J. Austria\n",
        "\n",
        "2015-05476\n",
        "\n",
        "---\n",
        "\n",
        "\n",
        "\n",
        "The main code that was used here was from the site: *https://pytorch.org/tutorials/beginner/transfer_learning_tutorial.html* by the author **Sasank Chilamkurthy**.\n",
        "\n",
        "I added my code for preparing the data to be fed into the model. I modified some of the code to fit for the required task. The format 2 of the SVHN core was used in this code.\n",
        "\n",
        "\n",
        "\n",
        "\n"
      ]
    },
    {
      "cell_type": "code",
      "metadata": {
        "id": "qKxz60S3O1Ud"
      },
      "source": [
        "# License: BSD\n",
        "# Author: Sasank Chilamkurthy\n",
        "\n",
        "from __future__ import print_function, division\n",
        "\n",
        "import torch\n",
        "import torch.nn as nn\n",
        "import torch.optim as optim\n",
        "from torch.optim import lr_scheduler\n",
        "import numpy as np\n",
        "import torchvision\n",
        "from torchvision import datasets, models, transforms\n",
        "import matplotlib.pyplot as plt\n",
        "import time\n",
        "import os\n",
        "import copy\n",
        "from PIL import Image\n",
        "import scipy.io as sio"
      ],
      "execution_count": 26,
      "outputs": []
    },
    {
      "cell_type": "markdown",
      "metadata": {
        "id": "vBF6wKGX_fsr"
      },
      "source": [
        "I uploaded the format 2 data set which is the .mat files into my google drive."
      ]
    },
    {
      "cell_type": "code",
      "metadata": {
        "id": "P5H__Q77PXtT",
        "colab": {
          "base_uri": "https://localhost:8080/"
        },
        "outputId": "f7854b96-45fc-465b-ffd1-f47263505211"
      },
      "source": [
        "from google.colab import drive\n",
        "drive.mount('/content/drive')"
      ],
      "execution_count": null,
      "outputs": [
        {
          "output_type": "stream",
          "text": [
            "Mounted at /content/drive\n"
          ],
          "name": "stdout"
        }
      ]
    },
    {
      "cell_type": "markdown",
      "metadata": {
        "id": "cEGP17Qu_3BN"
      },
      "source": [
        "Checked for the list of models."
      ]
    },
    {
      "cell_type": "code",
      "metadata": {
        "id": "cjQJzv-uAMZ6",
        "colab": {
          "base_uri": "https://localhost:8080/"
        },
        "outputId": "3d01ee80-97b0-4fec-997b-cbd0a9b55c0f"
      },
      "source": [
        "[model for model in dir(models)]"
      ],
      "execution_count": null,
      "outputs": [
        {
          "output_type": "execute_result",
          "data": {
            "text/plain": [
              "['AlexNet',\n",
              " 'DenseNet',\n",
              " 'GoogLeNet',\n",
              " 'GoogLeNetOutputs',\n",
              " 'Inception3',\n",
              " 'InceptionOutputs',\n",
              " 'MNASNet',\n",
              " 'MobileNetV2',\n",
              " 'MobileNetV3',\n",
              " 'ResNet',\n",
              " 'ShuffleNetV2',\n",
              " 'SqueezeNet',\n",
              " 'VGG',\n",
              " '_GoogLeNetOutputs',\n",
              " '_InceptionOutputs',\n",
              " '__builtins__',\n",
              " '__cached__',\n",
              " '__doc__',\n",
              " '__file__',\n",
              " '__loader__',\n",
              " '__name__',\n",
              " '__package__',\n",
              " '__path__',\n",
              " '__spec__',\n",
              " '_utils',\n",
              " 'alexnet',\n",
              " 'densenet',\n",
              " 'densenet121',\n",
              " 'densenet161',\n",
              " 'densenet169',\n",
              " 'densenet201',\n",
              " 'detection',\n",
              " 'googlenet',\n",
              " 'inception',\n",
              " 'inception_v3',\n",
              " 'mnasnet',\n",
              " 'mnasnet0_5',\n",
              " 'mnasnet0_75',\n",
              " 'mnasnet1_0',\n",
              " 'mnasnet1_3',\n",
              " 'mobilenet',\n",
              " 'mobilenet_v2',\n",
              " 'mobilenet_v3_large',\n",
              " 'mobilenet_v3_small',\n",
              " 'mobilenetv2',\n",
              " 'mobilenetv3',\n",
              " 'quantization',\n",
              " 'resnet',\n",
              " 'resnet101',\n",
              " 'resnet152',\n",
              " 'resnet18',\n",
              " 'resnet34',\n",
              " 'resnet50',\n",
              " 'resnext101_32x8d',\n",
              " 'resnext50_32x4d',\n",
              " 'segmentation',\n",
              " 'shufflenet_v2_x0_5',\n",
              " 'shufflenet_v2_x1_0',\n",
              " 'shufflenet_v2_x1_5',\n",
              " 'shufflenet_v2_x2_0',\n",
              " 'shufflenetv2',\n",
              " 'squeezenet',\n",
              " 'squeezenet1_0',\n",
              " 'squeezenet1_1',\n",
              " 'utils',\n",
              " 'vgg',\n",
              " 'vgg11',\n",
              " 'vgg11_bn',\n",
              " 'vgg13',\n",
              " 'vgg13_bn',\n",
              " 'vgg16',\n",
              " 'vgg16_bn',\n",
              " 'vgg19',\n",
              " 'vgg19_bn',\n",
              " 'video',\n",
              " 'wide_resnet101_2',\n",
              " 'wide_resnet50_2']"
            ]
          },
          "metadata": {
            "tags": []
          },
          "execution_count": 54
        }
      ]
    },
    {
      "cell_type": "markdown",
      "metadata": {
        "id": "h-6e03QBADd0"
      },
      "source": [
        "I loaded the two .mat files(format 2 of the SVHN core) using the scipy.io library.\n",
        "\n",
        "Based from what I have researched and learned from the resources online, the structure of the root folder for the data set must be in the form:\n",
        "\n",
        "    root/\n",
        "      train/\n",
        "        labels/\n",
        "          image1.jpg\n",
        "          ...\n",
        "      val/\n",
        "        labels/\n",
        "          image2.jpg\n",
        "          ...\n",
        "The code below extracts the information from the .mat files which are:\n",
        "\n",
        "\n",
        "*   images with size 32x32\n",
        "*   corresponding label of the image\n",
        "\n",
        "Because of the structure of the root folder being like that and the information of the .mat files, I saved the 32x32 pictures to the drive with the following details:\n",
        "\n",
        "*   Root folder = \"SVHN_format2\"\n",
        "*   Labels/Sub-folders of the train folder = \"1\" ,\"2\",...,\"10\"\n",
        "  *   Contents are the images of the \"train_32x32.mat\" file\n",
        "\n",
        "*   Labels/Sub-folders of the val folder = \"1\" ,\"2\",...,\"10\"\n",
        "  *   Contents are the images of the \"test_32x32.mat\" file\n",
        "\n",
        "\n",
        "\n",
        "\n",
        "\n",
        "\n",
        "\n",
        "    "
      ]
    },
    {
      "cell_type": "code",
      "metadata": {
        "id": "CdSKCcpRi2St",
        "colab": {
          "base_uri": "https://localhost:8080/"
        },
        "outputId": "7b13a48c-0567-4412-d7a5-f737630b5736"
      },
      "source": [
        "number_of_files = 0\n",
        "# load .mat files\n",
        "train = sio.loadmat('/content/drive/MyDrive/test_32x32.mat')\n",
        "val = sio.loadmat('/content/drive/MyDrive/train_32x32.mat')\n",
        "\n",
        "# access to the dict\n",
        "x_train = train['X'] #images\n",
        "y_train = train['y'] #labels of the train images\n",
        "print(len(y_train))\n",
        "x_val = val['X'] #images\n",
        "y_val = val['y'] #labels of the val images\n",
        "print(len(y_val))\n",
        "\n",
        "# save the images to the train folder with the labels subfolders\n",
        "for number_of_files in range(len(y_train)-1):\n",
        "  im = Image.fromarray(x_train[:,:,:,number_of_files])\n",
        "  im.save('/content/drive/MyDrive/SVHN_format2/train/'+str(int(y_train[number_of_files])) + '/' +str(number_of_files+1) + '.jpg')\n",
        "\n",
        "number_of_files = 0\n",
        "\n",
        "# save the images to the val folder with the labels subfolders\n",
        "for number_of_files in range(len(y_val)-1):\n",
        "  im = Image.fromarray(x_val[:,:,:,number_of_files])\n",
        "  im.save('/content/drive/MyDrive/SVHN_format2/val/'+str(int(y_val[number_of_files])) + '/' +str(number_of_files+1) + '.jpg')\n"
      ],
      "execution_count": null,
      "outputs": [
        {
          "output_type": "stream",
          "text": [
            "26032\n",
            "73257\n"
          ],
          "name": "stdout"
        }
      ]
    },
    {
      "cell_type": "code",
      "metadata": {
        "colab": {
          "base_uri": "https://localhost:8080/"
        },
        "id": "WndUY1kcj9ND",
        "outputId": "e9bc7d90-c032-41fd-cfbd-967cec7aff99"
      },
      "source": [
        "list = os.listdir('/content/drive/MyDrive/SVHN_format2/val/4') # dir is your directory path\n",
        "number_files = len(list)\n",
        "print(number_files)"
      ],
      "execution_count": null,
      "outputs": [
        {
          "output_type": "stream",
          "text": [
            "7458\n"
          ],
          "name": "stdout"
        }
      ]
    },
    {
      "cell_type": "markdown",
      "metadata": {
        "id": "-w5tm_sGP_Fl"
      },
      "source": [
        "The code below is for the preprocessing of the data. This will create the dataloader to be fed to the model."
      ]
    },
    {
      "cell_type": "code",
      "metadata": {
        "id": "7UfihiFsO-r6"
      },
      "source": [
        "  # Data augmentation and normalization for training\n",
        "# Just normalization for validation\n",
        "data_transforms = {\n",
        "    'train': transforms.Compose([\n",
        "        #transforms.RandomResizedCrop(32),\n",
        "        #transforms.RandomHorizontalFlip(),\n",
        "        transforms.ToTensor(),\n",
        "        transforms.Normalize([0.485, 0.456, 0.406], [0.229, 0.224, 0.225])\n",
        "    ]),\n",
        "    'val': transforms.Compose([\n",
        "        #transforms.Resize(256),\n",
        "        #transforms.CenterCrop(224),\n",
        "        transforms.ToTensor(),\n",
        "        transforms.Normalize([0.485, 0.456, 0.406], [0.229, 0.224, 0.225])\n",
        "    ]),\n",
        "}\n",
        "\n",
        "data_dir = '/content/drive/MyDrive/SVHN_format2'\n",
        "#data_dir = '/content/drive/MyDrive/SVHN_small'\n",
        "#data_dir = '/content/drive/MyDrive/hymenoptera_data'\n",
        "image_datasets = {x: datasets.ImageFolder(os.path.join(data_dir, x), data_transforms[x]) for x in ['train', 'val']}\n",
        "dataloaders = {x: torch.utils.data.DataLoader(image_datasets[x], batch_size=128, shuffle=True, num_workers=2) for x in ['train', 'val']}\n",
        "dataset_sizes = {x: len(image_datasets[x]) for x in ['train', 'val']}\n",
        "class_names = image_datasets['train'].classes\n",
        "\n",
        "device = torch.device(\"cuda:0\" if torch.cuda.is_available() else \"cpu\")"
      ],
      "execution_count": 28,
      "outputs": []
    },
    {
      "cell_type": "markdown",
      "metadata": {
        "id": "DnjNW_mNT4C2"
      },
      "source": [
        "Check for the device if cuda or cpu."
      ]
    },
    {
      "cell_type": "code",
      "metadata": {
        "id": "5mc3K7tnPkt2",
        "colab": {
          "base_uri": "https://localhost:8080/"
        },
        "outputId": "3d019f05-85fe-4bb3-a798-480269c79068"
      },
      "source": [
        "print(device)"
      ],
      "execution_count": 29,
      "outputs": [
        {
          "output_type": "stream",
          "text": [
            "cpu\n"
          ],
          "name": "stdout"
        }
      ]
    },
    {
      "cell_type": "markdown",
      "metadata": {
        "id": "F9-uIYzMT8fE"
      },
      "source": [
        "Check the details of the nvidia cuda."
      ]
    },
    {
      "cell_type": "code",
      "metadata": {
        "id": "I7Wpir-Ej0ql",
        "colab": {
          "base_uri": "https://localhost:8080/"
        },
        "outputId": "ff11d20a-b0bf-41af-c4d7-cc3afc1b48ab"
      },
      "source": [
        "!nvidia-smi"
      ],
      "execution_count": null,
      "outputs": [
        {
          "output_type": "stream",
          "text": [
            "NVIDIA-SMI has failed because it couldn't communicate with the NVIDIA driver. Make sure that the latest NVIDIA driver is installed and running.\n",
            "\n"
          ],
          "name": "stdout"
        }
      ]
    },
    {
      "cell_type": "markdown",
      "metadata": {
        "id": "coWpWkFfT_cF"
      },
      "source": [
        "Check is cuda is available."
      ]
    },
    {
      "cell_type": "code",
      "metadata": {
        "id": "6pVH99OWj2Kq",
        "colab": {
          "base_uri": "https://localhost:8080/"
        },
        "outputId": "8b02dd1f-f114-42e5-fb30-d25e8360ac0e"
      },
      "source": [
        "torch.cuda.is_available()"
      ],
      "execution_count": null,
      "outputs": [
        {
          "output_type": "execute_result",
          "data": {
            "text/plain": [
              "True"
            ]
          },
          "metadata": {
            "tags": []
          },
          "execution_count": 106
        }
      ]
    },
    {
      "cell_type": "markdown",
      "metadata": {
        "id": "eAKQ1cVTIOgi"
      },
      "source": [
        "Check what GPU is used."
      ]
    },
    {
      "cell_type": "code",
      "metadata": {
        "colab": {
          "base_uri": "https://localhost:8080/",
          "height": 35
        },
        "id": "GIlea3y0j3kh",
        "outputId": "b97e0b74-126c-4aef-b8a4-c4ae4c6020bf"
      },
      "source": [
        "torch.cuda.get_device_name(0)"
      ],
      "execution_count": null,
      "outputs": [
        {
          "output_type": "execute_result",
          "data": {
            "application/vnd.google.colaboratory.intrinsic+json": {
              "type": "string"
            },
            "text/plain": [
              "'Tesla T4'"
            ]
          },
          "metadata": {
            "tags": []
          },
          "execution_count": 107
        }
      ]
    },
    {
      "cell_type": "markdown",
      "metadata": {
        "id": "QrgxJk9UQTMZ"
      },
      "source": [
        "The code below shows some of the images and their corresponding labels.\n",
        "\n",
        "The number of images depends on the batch_size."
      ]
    },
    {
      "cell_type": "code",
      "metadata": {
        "id": "MiBb80jzPD3X",
        "colab": {
          "base_uri": "https://localhost:8080/",
          "height": 108
        },
        "outputId": "2b0413c9-be7c-40f1-d369-424aea1232c7"
      },
      "source": [
        "def imshow(inp, title=None):\n",
        "    \"\"\"Imshow for Tensor.\"\"\"\n",
        "    inp = inp.numpy().transpose((1, 2, 0))\n",
        "    mean = np.array([0.485, 0.456, 0.406])\n",
        "    std = np.array([0.229, 0.224, 0.225])\n",
        "    inp = std * inp + mean\n",
        "    inp = np.clip(inp, 0, 1)\n",
        "    plt.imshow(inp)\n",
        "    if title is not None:\n",
        "        plt.title(title)\n",
        "    plt.pause(0.001)  # pause a bit so that plots are updated\n",
        "\n",
        "\n",
        "# Get a batch of training data\n",
        "inputs, classes = next(iter(dataloaders['train']))\n",
        "\n",
        "# Make a grid from batch\n",
        "out = torchvision.utils.make_grid(inputs)\n",
        "\n",
        "imshow(out, title=[class_names[x] for x in classes])"
      ],
      "execution_count": 30,
      "outputs": [
        {
          "output_type": "display_data",
          "data": {
            "image/png": "[encoded data removed]",
            "text/plain": [
              "<Figure size 432x288 with 1 Axes>"
            ]
          },
          "metadata": {
            "tags": [],
            "needs_background": "light"
          }
        }
      ]
    },
    {
      "cell_type": "markdown",
      "metadata": {
        "id": "H00bg_11QhsQ"
      },
      "source": [
        "The code below is for the training of the model. \n",
        "\n",
        "The number of epochs that I set was 25. \n",
        "\n",
        "Throughout the training process, the loss and acc values are shown per epoch. As the epoch further progresses, loss is decreased and acc is increased. This can be shown by the plots.\n",
        "\n",
        "After the model is trained, the plots of the train loss, train acc, val loss, and val acc are shown.\n",
        "\n"
      ]
    },
    {
      "cell_type": "code",
      "metadata": {
        "id": "x8ATx87KPGOy"
      },
      "source": [
        "def train_model(model, criterion, optimizer, scheduler, num_epochs=25):\n",
        "    since = time.time()\n",
        "    train_array_loss = []\n",
        "    train_array_acc = []\n",
        "    val_array_loss = []\n",
        "    val_array_acc = []\n",
        "    best_model_wts = copy.deepcopy(model.state_dict())\n",
        "    best_acc = 0.0\n",
        "\n",
        "    for epoch in range(num_epochs):\n",
        "        print('Epoch {}/{}'.format(epoch, num_epochs - 1))\n",
        "        print('-' * 10)\n",
        "\n",
        "        # Each epoch has a training and validation phase\n",
        "        for phase in ['train', 'val']:\n",
        "            if phase == 'train':\n",
        "                model.train()  # Set model to training mode\n",
        "            else:\n",
        "                model.eval()   # Set model to evaluate mode\n",
        "\n",
        "            running_loss = 0.0\n",
        "            running_corrects = 0\n",
        "\n",
        "            # Iterate over data.\n",
        "            for inputs, labels in dataloaders[phase]:\n",
        "                inputs = inputs.to(device)\n",
        "                labels = labels.to(device)\n",
        "\n",
        "                # zero the parameter gradients\n",
        "                optimizer.zero_grad()\n",
        "\n",
        "                # forward\n",
        "                # track history if only in train\n",
        "                with torch.set_grad_enabled(phase == 'train'):\n",
        "                    outputs = model(inputs)\n",
        "                    _, preds = torch.max(outputs, 1)\n",
        "                    loss = criterion(outputs, labels)\n",
        "\n",
        "                    # backward + optimize only if in training phase\n",
        "                    if phase == 'train':\n",
        "                        loss.backward()\n",
        "                        optimizer.step()\n",
        "\n",
        "                # statistics\n",
        "                running_loss += loss.item() * inputs.size(0)\n",
        "                running_corrects += torch.sum(preds == labels.data)\n",
        "            if phase == 'train':\n",
        "                scheduler.step()\n",
        "\n",
        "            epoch_loss = running_loss / dataset_sizes[phase]\n",
        "            epoch_acc = running_corrects.double() / dataset_sizes[phase]\n",
        "            print('{} Loss: {:.4f} Acc: {:.4f}'.format(\n",
        "                phase, epoch_loss, epoch_acc))\n",
        "            \n",
        "            #get details for plot\n",
        "            if phase == 'train':\n",
        "                train_array_loss.append(epoch_loss)\n",
        "                train_array_acc.append(epoch_acc)\n",
        "            if phase == 'val':\n",
        "                val_array_loss.append(epoch_loss)\n",
        "                val_array_acc.append(epoch_acc)\n",
        "\n",
        "            # deep copy the model\n",
        "            if phase == 'val' and epoch_acc > best_acc:\n",
        "                best_acc = epoch_acc\n",
        "                best_model_wts = copy.deepcopy(model.state_dict())\n",
        "\n",
        "        print()\n",
        "    # Print the plots of the loss and acc values for train and val\n",
        "    #plt.subplot(1,2,1)\n",
        "    plt.plot(train_array_loss, label = 'Train Loss')\n",
        "    plt.plot(train_array_acc, label = 'Train Acc')\n",
        "    plt.legend()\n",
        "    plt.title('Train data loss and acc')\n",
        "    plt.xlabel('Epoch')\n",
        "    plt.ylabel('Value')\n",
        "    plt.show()\n",
        "    #plt.subplot(1,2,2)\n",
        "    plt.plot(val_array_loss, label = 'Val Loss')\n",
        "    plt.plot(val_array_acc, label = 'Val Acc')\n",
        "    plt.legend()\n",
        "    plt.title('Val data loss and acc')\n",
        "    plt.xlabel('Epoch')\n",
        "    plt.ylabel('Value')\n",
        "    plt.show()\n",
        "\n",
        "    time_elapsed = time.time() - since\n",
        "    print('Training complete in {:.0f}m {:.0f}s'.format(\n",
        "        time_elapsed // 60, time_elapsed % 60))\n",
        "    print('Best val Acc: {:4f}'.format(best_acc))\n",
        "\n",
        "    # load best model weights\n",
        "    model.load_state_dict(best_model_wts)\n",
        "  \n",
        "\n",
        "    return model"
      ],
      "execution_count": 31,
      "outputs": []
    },
    {
      "cell_type": "markdown",
      "metadata": {
        "id": "GMgMeAqyRWrY"
      },
      "source": [
        "The function below is for visualization purposes. We can see here the image and the predicted number of that image."
      ]
    },
    {
      "cell_type": "code",
      "metadata": {
        "id": "B1vdOJpkPHGS"
      },
      "source": [
        "def visualize_model(model, num_images=10):\n",
        "    was_training = model.training\n",
        "    model.eval()\n",
        "    images_so_far = 0\n",
        "    fig = plt.figure()\n",
        "\n",
        "    with torch.no_grad():\n",
        "        for i, (inputs, labels) in enumerate(dataloaders['val']):\n",
        "            inputs = inputs.to(device)\n",
        "            labels = labels.to(device)\n",
        "\n",
        "            outputs = model(inputs)\n",
        "            _, preds = torch.max(outputs, 1)\n",
        "\n",
        "            for j in range(inputs.size()[0]):\n",
        "                images_so_far += 1\n",
        "                ax = plt.subplot(num_images//2, 2, images_so_far)\n",
        "                ax.axis('off')\n",
        "                ax.set_title('predicted: {}'.format(class_names[preds[j]]))\n",
        "                imshow(inputs.cpu().data[j])\n",
        "\n",
        "                if images_so_far == num_images:\n",
        "                    model.train(mode=was_training)\n",
        "                    return\n",
        "        model.train(mode=was_training)"
      ],
      "execution_count": 32,
      "outputs": []
    },
    {
      "cell_type": "markdown",
      "metadata": {
        "id": "VkX4lnOfRgp4"
      },
      "source": [
        "# **resnet18 model**"
      ]
    },
    {
      "cell_type": "code",
      "metadata": {
        "id": "hl-3-orPPNRR"
      },
      "source": [
        "model_ft = models.resnet18(pretrained=True)\n",
        "num_ftrs = model_ft.fc.in_features\n",
        "# Here the size of each output sample is set to 2.\n",
        "# Alternatively, it can be generalized to nn.Linear(num_ftrs, len(class_names)).\n",
        "model_ft.fc = nn.Linear(num_ftrs, len(class_names))\n",
        "\n",
        "model_ft = model_ft.to(device)\n",
        "\n",
        "criterion = nn.CrossEntropyLoss()\n",
        "\n",
        "# Observe that all parameters are being optimized\n",
        "optimizer_ft = optim.SGD(model_ft.parameters(), lr=0.001, momentum=0.9)\n",
        "\n",
        "# Decay LR by a factor of 0.1 every 7 epochs\n",
        "exp_lr_scheduler = lr_scheduler.StepLR(optimizer_ft, step_size=7, gamma=0.1)"
      ],
      "execution_count": null,
      "outputs": []
    },
    {
      "cell_type": "code",
      "metadata": {
        "id": "Kt2JLeuKPREH",
        "colab": {
          "base_uri": "https://localhost:8080/",
          "height": 1000
        },
        "outputId": "f92d3774-4b7c-4557-9961-6ad0522f206c"
      },
      "source": [
        "print('Training resnet18 model..')\n",
        "model_ft = train_model(model_ft, criterion, optimizer_ft, exp_lr_scheduler, num_epochs=25)"
      ],
      "execution_count": null,
      "outputs": [
        {
          "output_type": "stream",
          "text": [
            "Training resnet18 model..\n",
            "Epoch 0/24\n",
            "----------\n",
            "train Loss: 1.1829 Acc: 0.6265\n",
            "val Loss: 0.6935 Acc: 0.7823\n",
            "\n",
            "Epoch 1/24\n",
            "----------\n",
            "train Loss: 0.5201 Acc: 0.8460\n",
            "val Loss: 0.5011 Acc: 0.8492\n",
            "\n",
            "Epoch 2/24\n",
            "----------\n",
            "train Loss: 0.3676 Acc: 0.8938\n",
            "val Loss: 0.4858 Acc: 0.8585\n",
            "\n",
            "Epoch 3/24\n",
            "----------\n",
            "train Loss: 0.2866 Acc: 0.9186\n",
            "val Loss: 0.5011 Acc: 0.8472\n",
            "\n",
            "Epoch 4/24\n",
            "----------\n",
            "train Loss: 0.2350 Acc: 0.9339\n",
            "val Loss: 0.4300 Acc: 0.8784\n",
            "\n",
            "Epoch 5/24\n",
            "----------\n",
            "train Loss: 0.1922 Acc: 0.9451\n",
            "val Loss: 0.4669 Acc: 0.8677\n",
            "\n",
            "Epoch 6/24\n",
            "----------\n",
            "train Loss: 0.1721 Acc: 0.9517\n",
            "val Loss: 0.4564 Acc: 0.8681\n",
            "\n",
            "Epoch 7/24\n",
            "----------\n",
            "train Loss: 0.0965 Acc: 0.9744\n",
            "val Loss: 0.3712 Acc: 0.8963\n",
            "\n",
            "Epoch 8/24\n",
            "----------\n",
            "train Loss: 0.0707 Acc: 0.9811\n",
            "val Loss: 0.3693 Acc: 0.8989\n",
            "\n",
            "Epoch 9/24\n",
            "----------\n",
            "train Loss: 0.0634 Acc: 0.9830\n",
            "val Loss: 0.3574 Acc: 0.8994\n",
            "\n",
            "Epoch 10/24\n",
            "----------\n",
            "train Loss: 0.0569 Acc: 0.9857\n",
            "val Loss: 0.3777 Acc: 0.8969\n",
            "\n",
            "Epoch 11/24\n",
            "----------\n",
            "train Loss: 0.0522 Acc: 0.9864\n",
            "val Loss: 0.3831 Acc: 0.8994\n",
            "\n",
            "Epoch 12/24\n",
            "----------\n",
            "train Loss: 0.0481 Acc: 0.9871\n",
            "val Loss: 0.3891 Acc: 0.8969\n",
            "\n",
            "Epoch 13/24\n",
            "----------\n",
            "train Loss: 0.0436 Acc: 0.9888\n",
            "val Loss: 0.3851 Acc: 0.8996\n",
            "\n",
            "Epoch 14/24\n",
            "----------\n",
            "train Loss: 0.0381 Acc: 0.9902\n",
            "val Loss: 0.3789 Acc: 0.8999\n",
            "\n",
            "Epoch 15/24\n",
            "----------\n",
            "train Loss: 0.0358 Acc: 0.9910\n",
            "val Loss: 0.3869 Acc: 0.8987\n",
            "\n",
            "Epoch 16/24\n",
            "----------\n",
            "train Loss: 0.0368 Acc: 0.9905\n",
            "val Loss: 0.3833 Acc: 0.8988\n",
            "\n",
            "Epoch 17/24\n",
            "----------\n",
            "train Loss: 0.0342 Acc: 0.9908\n",
            "val Loss: 0.3882 Acc: 0.8992\n",
            "\n",
            "Epoch 18/24\n",
            "----------\n",
            "train Loss: 0.0357 Acc: 0.9907\n",
            "val Loss: 0.3782 Acc: 0.8999\n",
            "\n",
            "Epoch 19/24\n",
            "----------\n",
            "train Loss: 0.0348 Acc: 0.9915\n",
            "val Loss: 0.3946 Acc: 0.8981\n",
            "\n",
            "Epoch 20/24\n",
            "----------\n",
            "train Loss: 0.0361 Acc: 0.9906\n",
            "val Loss: 0.3906 Acc: 0.8978\n",
            "\n",
            "Epoch 21/24\n",
            "----------\n",
            "train Loss: 0.0348 Acc: 0.9914\n",
            "val Loss: 0.3889 Acc: 0.8991\n",
            "\n",
            "Epoch 22/24\n",
            "----------\n",
            "train Loss: 0.0330 Acc: 0.9914\n",
            "val Loss: 0.3909 Acc: 0.8984\n",
            "\n",
            "Epoch 23/24\n",
            "----------\n",
            "train Loss: 0.0347 Acc: 0.9905\n",
            "val Loss: 0.3945 Acc: 0.8985\n",
            "\n",
            "Epoch 24/24\n",
            "----------\n",
            "train Loss: 0.0355 Acc: 0.9904\n",
            "val Loss: 0.3865 Acc: 0.8994\n",
            "\n"
          ],
          "name": "stdout"
        },
        {
          "output_type": "display_data",
          "data": {
            "image/png": "[encoded data removed]",
            "text/plain": [
              "<Figure size 432x288 with 1 Axes>"
            ]
          },
          "metadata": {
            "tags": [],
            "needs_background": "light"
          }
        },
        {
          "output_type": "display_data",
          "data": {
            "image/png": "[encoded data removed]",
            "text/plain": [
              "<Figure size 432x288 with 1 Axes>"
            ]
          },
          "metadata": {
            "tags": [],
            "needs_background": "light"
          }
        },
        {
          "output_type": "stream",
          "text": [
            "Training complete in 76m 14s\n",
            "Best val Acc: 0.899913\n"
          ],
          "name": "stdout"
        }
      ]
    },
    {
      "cell_type": "code",
      "metadata": {
        "id": "LA0CsqJtRJ7C",
        "colab": {
          "base_uri": "https://localhost:8080/",
          "height": 687
        },
        "outputId": "3400ad1d-a9c0-403d-df71-b09b5917dc5b"
      },
      "source": [
        "visualize_model(model_ft)"
      ],
      "execution_count": null,
      "outputs": [
        {
          "output_type": "display_data",
          "data": {
            "image/png": "[encoded data removed]",
            "text/plain": [
              "<Figure size 432x288 with 1 Axes>"
            ]
          },
          "metadata": {
            "tags": [],
            "needs_background": "light"
          }
        },
        {
          "output_type": "display_data",
          "data": {
            "image/png": "[encoded data removed]",
            "text/plain": [
              "<Figure size 432x288 with 1 Axes>"
            ]
          },
          "metadata": {
            "tags": [],
            "needs_background": "light"
          }
        },
        {
          "output_type": "display_data",
          "data": {
            "image/png": "[encoded data removed]",
            "text/plain": [
              "<Figure size 432x288 with 1 Axes>"
            ]
          },
          "metadata": {
            "tags": [],
            "needs_background": "light"
          }
        },
        {
          "output_type": "display_data",
          "data": {
            "image/png": "[encoded data removed]",
            "text/plain": [
              "<Figure size 432x288 with 1 Axes>"
            ]
          },
          "metadata": {
            "tags": [],
            "needs_background": "light"
          }
        },
        {
          "output_type": "display_data",
          "data": {
            "image/png": "[encoded data removed]",
            "text/plain": [
              "<Figure size 432x288 with 1 Axes>"
            ]
          },
          "metadata": {
            "tags": [],
            "needs_background": "light"
          }
        },
        {
          "output_type": "display_data",
          "data": {
            "image/png": "[encoded data removed]",
            "text/plain": [
              "<Figure size 432x288 with 1 Axes>"
            ]
          },
          "metadata": {
            "tags": [],
            "needs_background": "light"
          }
        },
        {
          "output_type": "display_data",
          "data": {
            "image/png": "[encoded data removed]",
            "text/plain": [
              "<Figure size 432x288 with 1 Axes>"
            ]
          },
          "metadata": {
            "tags": [],
            "needs_background": "light"
          }
        },
        {
          "output_type": "display_data",
          "data": {
            "image/png": "[encoded data removed]",
            "text/plain": [
              "<Figure size 432x288 with 1 Axes>"
            ]
          },
          "metadata": {
            "tags": [],
            "needs_background": "light"
          }
        },
        {
          "output_type": "display_data",
          "data": {
            "image/png": "[encoded data removed]",
            "text/plain": [
              "<Figure size 432x288 with 1 Axes>"
            ]
          },
          "metadata": {
            "tags": [],
            "needs_background": "light"
          }
        },
        {
          "output_type": "display_data",
          "data": {
            "image/png": "[encoded data removed]",
            "text/plain": [
              "<Figure size 432x288 with 1 Axes>"
            ]
          },
          "metadata": {
            "tags": [],
            "needs_background": "light"
          }
        }
      ]
    },
    {
      "cell_type": "markdown",
      "metadata": {
        "id": "ECweeoqlR4qn"
      },
      "source": [
        "# **wide_resnet50_2 model**"
      ]
    },
    {
      "cell_type": "code",
      "metadata": {
        "id": "VfWvEurMAeDn"
      },
      "source": [
        "model_ft = models.wide_resnet50_2(pretrained=True)\n",
        "num_ftrs = model_ft.fc.in_features\n",
        "# Here the size of each output sample is set to 2.\n",
        "# Alternatively, it can be generalized to nn.Linear(num_ftrs, len(class_names)).\n",
        "model_ft.fc = nn.Linear(num_ftrs, len(class_names))\n",
        "\n",
        "model_ft = model_ft.to(device)\n",
        "\n",
        "criterion = nn.CrossEntropyLoss()\n",
        "\n",
        "# Observe that all parameters are being optimized\n",
        "optimizer_ft = optim.SGD(model_ft.parameters(), lr=0.001, momentum=0.9)\n",
        "\n",
        "# Decay LR by a factor of 0.1 every 7 epochs\n",
        "exp_lr_scheduler = lr_scheduler.StepLR(optimizer_ft, step_size=7, gamma=0.1)"
      ],
      "execution_count": 34,
      "outputs": []
    },
    {
      "cell_type": "code",
      "metadata": {
        "id": "aEHA3E41BsMe",
        "colab": {
          "base_uri": "https://localhost:8080/",
          "height": 195
        },
        "outputId": "cbe50381-8dce-4295-f30a-e8f4a08cda15"
      },
      "source": [
        "print('Training wide_resnet50_2 model..')\n",
        "model_ft = train_model(model_ft, criterion, optimizer_ft, exp_lr_scheduler, num_epochs=25)"
      ],
      "execution_count": null,
      "outputs": [
        {
          "output_type": "stream",
          "text": [
            "Training wide_resnet50_2 model..\n"
          ],
          "name": "stdout"
        },
        {
          "output_type": "error",
          "ename": "NameError",
          "evalue": "ignored",
          "traceback": [
            "\u001b[0;31m---------------------------------------------------------------------------\u001b[0m",
            "\u001b[0;31mNameError\u001b[0m                                 Traceback (most recent call last)",
            "\u001b[0;32m<ipython-input-5-11528fc83c66>\u001b[0m in \u001b[0;36m<module>\u001b[0;34m()\u001b[0m\n\u001b[1;32m      1\u001b[0m \u001b[0mprint\u001b[0m\u001b[0;34m(\u001b[0m\u001b[0;34m'Training wide_resnet50_2 model..'\u001b[0m\u001b[0;34m)\u001b[0m\u001b[0;34m\u001b[0m\u001b[0;34m\u001b[0m\u001b[0m\n\u001b[0;32m----> 2\u001b[0;31m \u001b[0mmodel_ft\u001b[0m \u001b[0;34m=\u001b[0m \u001b[0mtrain_model\u001b[0m\u001b[0;34m(\u001b[0m\u001b[0mmodel_ft\u001b[0m\u001b[0;34m,\u001b[0m \u001b[0mcriterion\u001b[0m\u001b[0;34m,\u001b[0m \u001b[0moptimizer_ft\u001b[0m\u001b[0;34m,\u001b[0m \u001b[0mexp_lr_scheduler\u001b[0m\u001b[0;34m,\u001b[0m \u001b[0mnum_epochs\u001b[0m\u001b[0;34m=\u001b[0m\u001b[0;36m25\u001b[0m\u001b[0;34m)\u001b[0m\u001b[0;34m\u001b[0m\u001b[0;34m\u001b[0m\u001b[0m\n\u001b[0m",
            "\u001b[0;31mNameError\u001b[0m: name 'train_model' is not defined"
          ]
        }
      ]
    },
    {
      "cell_type": "code",
      "metadata": {
        "id": "eE10f8m6AkZ6"
      },
      "source": [
        "visualize_model(model_ft)"
      ],
      "execution_count": null,
      "outputs": []
    },
    {
      "cell_type": "markdown",
      "metadata": {
        "id": "OwUCnwNVSJ1V"
      },
      "source": [
        "# **resnext50_32x4d model**"
      ]
    },
    {
      "cell_type": "code",
      "metadata": {
        "id": "OT5PEVksGdUT"
      },
      "source": [
        "model_ft = models.resnext50_32x4d(pretrained=True)\n",
        "num_ftrs = model_ft.fc.in_features\n",
        "# Here the size of each output sample is set to 2.\n",
        "# Alternatively, it can be generalized to nn.Linear(num_ftrs, len(class_names)).\n",
        "model_ft.fc = nn.Linear(num_ftrs, len(class_names))\n",
        "\n",
        "model_ft = model_ft.to(device)\n",
        "\n",
        "criterion = nn.CrossEntropyLoss()\n",
        "\n",
        "# Observe that all parameters are being optimized\n",
        "optimizer_ft = optim.SGD(model_ft.parameters(), lr=0.001, momentum=0.9)\n",
        "\n",
        "# Decay LR by a factor of 0.1 every 7 epochs\n",
        "exp_lr_scheduler = lr_scheduler.StepLR(optimizer_ft, step_size=7, gamma=0.1)"
      ],
      "execution_count": null,
      "outputs": []
    },
    {
      "cell_type": "code",
      "metadata": {
        "id": "f-PfNXhNGdNY",
        "colab": {
          "base_uri": "https://localhost:8080/",
          "height": 875
        },
        "outputId": "f4016791-eaa9-4adc-a292-42a9db8fff53"
      },
      "source": [
        "print('Training resnext50_32x4d model..')\n",
        "model_ft = train_model(model_ft, criterion, optimizer_ft, exp_lr_scheduler, num_epochs=3)"
      ],
      "execution_count": null,
      "outputs": [
        {
          "output_type": "stream",
          "text": [
            "Training resnext50_32x4d model..\n",
            "Epoch 0/2\n",
            "----------\n",
            "train Loss: 2.4199 Acc: 0.1550\n",
            "val Loss: 2.4263 Acc: 0.1250\n",
            "\n",
            "Epoch 1/2\n",
            "----------\n",
            "train Loss: 2.3601 Acc: 0.1700\n",
            "val Loss: 2.4838 Acc: 0.1775\n",
            "\n",
            "Epoch 2/2\n",
            "----------\n",
            "train Loss: 2.2466 Acc: 0.2400\n",
            "val Loss: 2.7112 Acc: 0.1675\n",
            "\n"
          ],
          "name": "stdout"
        },
        {
          "output_type": "display_data",
          "data": {
            "image/png": "[encoded data removed]",
            "text/plain": [
              "<Figure size 432x288 with 1 Axes>"
            ]
          },
          "metadata": {
            "tags": [],
            "needs_background": "light"
          }
        },
        {
          "output_type": "display_data",
          "data": {
            "image/png": "[encoded data removed]",
            "text/plain": [
              "<Figure size 432x288 with 1 Axes>"
            ]
          },
          "metadata": {
            "tags": [],
            "needs_background": "light"
          }
        },
        {
          "output_type": "stream",
          "text": [
            "Training complete in 0m 7s\n",
            "Best val Acc: 0.177500\n"
          ],
          "name": "stdout"
        }
      ]
    },
    {
      "cell_type": "code",
      "metadata": {
        "id": "naEdQcbNGdBz"
      },
      "source": [
        "visualize_model(model_ft)"
      ],
      "execution_count": null,
      "outputs": []
    }
  ]
}